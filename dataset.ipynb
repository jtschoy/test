{
 "cells": [
  {
   "cell_type": "code",
   "execution_count": 1,
   "metadata": {},
   "outputs": [
    {
     "data": {
      "application/vnd.jupyter.widget-view+json": {
       "model_id": "f05a1bc33796472fa9c8407531054fe2",
       "version_major": 2,
       "version_minor": 0
      },
      "text/plain": [
       "Saving the dataset (0/1 shards):   0%|          | 0/603 [00:00<?, ? examples/s]"
      ]
     },
     "metadata": {},
     "output_type": "display_data"
    },
    {
     "data": {
      "application/vnd.jupyter.widget-view+json": {
       "model_id": "709b125b6ded4c9b8cf2ea6dd333c70c",
       "version_major": 2,
       "version_minor": 0
      },
      "text/plain": [
       "Saving the dataset (0/1 shards):   0%|          | 0/604 [00:00<?, ? examples/s]"
      ]
     },
     "metadata": {},
     "output_type": "display_data"
    }
   ],
   "source": [
    "import pandas as pd\n",
    "import json\n",
    "from datasets import Dataset, DatasetDict\n",
    "\n",
    "# Load the JSON file\n",
    "with open(r'D:\\대학원\\대학원24\\수업_발표\\2024-2\\박교수님수업\\정보추출_파인튜닝\\total_fraud_final(removed_phishing).json', 'r', encoding='utf-8') as f:\n",
    "    data = json.load(f)\n",
    "\n",
    "# Function to convert the dataset into Hugging Face-friendly format\n",
    "def convert_to_hf_format(data):\n",
    "    records = []\n",
    "    for record in data:\n",
    "        crime_fact = record[\"crime_fact\"]\n",
    "        labels = record[\"label\"]\n",
    "\n",
    "        # Concatenate all label fields into a single text response\n",
    "        output = \"\\n\".join([f\"{key}: {value}\" for key, value in labels.items()])\n",
    "\n",
    "        records.append({\n",
    "            \"instruction\": crime_fact,  # Input (crime_fact)\n",
    "            \"output\": output,            # Output (labels)\n",
    "            \"input\": \"\"                  # Blank input\n",
    "        })\n",
    "\n",
    "    return records\n",
    "\n",
    "# Convert the dataset from the loaded JSON file\n",
    "formatted_data = convert_to_hf_format(data)\n",
    "\n",
    "# Create a pandas DataFrame\n",
    "df = pd.DataFrame(formatted_data)\n",
    "\n",
    "# Create Hugging Face Dataset from the pandas DataFrame\n",
    "dataset = Dataset.from_pandas(df)\n",
    "\n",
    "# Define train and validation splits (adjust as necessary)\n",
    "dataset_dict = DatasetDict({\n",
    "    \"train\": dataset.select(range(len(dataset)//2)),\n",
    "    \"validation\": dataset.select(range(len(dataset)//2, len(dataset))),\n",
    "})\n",
    "\n",
    "# Save dataset locally to upload to Hugging Face later\n",
    "dataset_dict.save_to_disk(r'path_to_save_dataset')\n",
    "\n",
    "# Alternatively, use dataset.push_to_hub() to upload directly to Hugging Face Hub\n"
   ]
  }
 ],
 "metadata": {
  "kernelspec": {
   "display_name": "base",
   "language": "python",
   "name": "python3"
  },
  "language_info": {
   "codemirror_mode": {
    "name": "ipython",
    "version": 3
   },
   "file_extension": ".py",
   "mimetype": "text/x-python",
   "name": "python",
   "nbconvert_exporter": "python",
   "pygments_lexer": "ipython3",
   "version": "3.9.7"
  }
 },
 "nbformat": 4,
 "nbformat_minor": 2
}
